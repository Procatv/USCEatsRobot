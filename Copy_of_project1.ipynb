{
  "cells": [
    {
      "cell_type": "markdown",
      "metadata": {
        "id": "view-in-github",
        "colab_type": "text"
      },
      "source": [
        "<a href=\"https://colab.research.google.com/github/Procatv/USCEatsRobot/blob/main/Copy_of_project1.ipynb\" target=\"_parent\"><img src=\"https://colab.research.google.com/assets/colab-badge.svg\" alt=\"Open In Colab\"/></a>"
      ]
    },
    {
      "cell_type": "markdown",
      "metadata": {
        "id": "367u7ZJxYayE"
      },
      "source": [
        "# Project 1, Due: Feb.12, 2025\n",
        "**CSCI360 Introduction to Artificial Intelligence (2025 Spring)**\n",
        "\n",
        "## Instructions\n",
        "In the following Python code blocks, write your code in the section marked with\n",
        "```\n",
        "###\n",
        "### YOUR CODE HERE\n",
        "###\n",
        "```\n",
        "and\n",
        "```\n",
        "### BEGIN HELPER\n",
        "\n",
        "### END HELPER\n",
        "```\n",
        "Specifically, the `SOLUTION` sections will be graded with test cases; you can leave `HELPER` sections blank if no need.\n",
        "Do not modify other code block. If you have any question, please ask on Piazza or go to an office hour."
      ]
    },
    {
      "cell_type": "markdown",
      "metadata": {
        "id": "erptvRHXYayH"
      },
      "source": [
        "## Install external libraries\n",
        "Although it is unlikely to require an external Python library to finish the project other than preinstalled ones on Colab, you may install via the following block (provide bash syntax, see example line). Ask on Piazza before installation since it may violate a rule."
      ]
    },
    {
      "cell_type": "code",
      "execution_count": null,
      "metadata": {
        "colab": {
          "base_uri": "https://localhost:8080/"
        },
        "id": "zjo4B__mYayI",
        "outputId": "d51b855d-2a2b-450f-de16-3288ca6eedc1"
      },
      "outputs": [
        {
          "name": "stdout",
          "output_type": "stream",
          "text": [
            "Requirement already satisfied: numpy in /usr/local/lib/python3.11/dist-packages (1.26.4)\n"
          ]
        }
      ],
      "source": [
        "# example\n",
        "!pip install numpy\n",
        "\n",
        "### BEGIN HELPER\n",
        "\n",
        "### END HELPER"
      ]
    },
    {
      "cell_type": "markdown",
      "metadata": {
        "id": "VHoq2J7kYayJ"
      },
      "source": [
        "## Import"
      ]
    },
    {
      "cell_type": "code",
      "execution_count": null,
      "metadata": {
        "id": "ROWm_LYGYayJ"
      },
      "outputs": [],
      "source": [
        "import os\n",
        "import numpy as np\n",
        "from collections import deque\n",
        "import heapq\n",
        "from time import time\n",
        "\n",
        "### BEGIN HELPER\n",
        "\n",
        "### END HELPER"
      ]
    },
    {
      "cell_type": "markdown",
      "metadata": {
        "id": "JMJrgpF-YayJ"
      },
      "source": [
        "## Predefined helper functions"
      ]
    },
    {
      "cell_type": "code",
      "execution_count": null,
      "metadata": {
        "id": "n2GanVLyYayK"
      },
      "outputs": [],
      "source": [
        "class State:\n",
        "    package_grid: np.ndarray\n",
        "    drone_grid: np.ndarray\n",
        "\n",
        "class Task:\n",
        "    def __init__(self, n: int, d: int, p: int, algorithm: str, packages: list):\n",
        "        self.n = n  # width/height of the n x n delivery area, n <= 15\n",
        "        self.d = d  # number of drones, d <= n\n",
        "        self.p = p  # number of packages, p <= 100\n",
        "        self.algorithm = algorithm.strip()  # algorithm to use, either astar for A* search or dfs for depth-first search\n",
        "        self.packages = packages  # locations of packages\n",
        "        assert len(self.packages) == self.p\n",
        "\n",
        "        package_grid = np.zeros((n, n), dtype=int)\n",
        "        for package in packages:\n",
        "            package_grid[package[0], package[1]] += 1\n",
        "        drone_grid = np.zeros((n, n), dtype=int)\n",
        "        initial_state = State()\n",
        "        initial_state.package_grid = package_grid\n",
        "        initial_state.drone_grid = drone_grid\n",
        "        self.initial_state = initial_state"
      ]
    },
    {
      "cell_type": "markdown",
      "metadata": {
        "id": "d6Df8nOKYayK"
      },
      "source": [
        "## DFS"
      ]
    },
    {
      "cell_type": "code",
      "execution_count": null,
      "metadata": {
        "id": "XfVemSZSYayK"
      },
      "outputs": [],
      "source": [
        "# Notes\n",
        "# Each Board piece has information\n",
        "# This is probably extra but it was my first instinct\n",
        "class boardPiece:\n",
        "  def __init__(self, x: int, y: int):\n",
        "    # Coordinates of each piece\n",
        "    self.x = x\n",
        "    self.y = y\n",
        "\n",
        "    # Other cell information\n",
        "    self.is_drone = False\n",
        "    self.package_count = 0\n",
        "\n",
        "  # Helper functions of each cell\n",
        "  def add_package(self):\n",
        "     self.package_count += 1 # I need to consider multiple packages\n",
        "\n",
        "  def add_drone(self):\n",
        "    self.is_drone = True\n",
        "\n",
        "# Overall board information\n",
        "class Board:\n",
        "    def __init__(self, n):\n",
        "      self.n = n\n",
        "      self.boardMap = [[boardPiece(x, y) for y in range(n)] for x in range(n)]\n",
        "\n",
        "    def add_package(self, x, y):\n",
        "        self.boardMap[x][y].add_package()\n",
        "\n",
        "    def place_drone(self, x, y):\n",
        "         self.boardMap[x][y].add_drone()\n",
        "\n",
        "    # I needed to define a deep copy to use for different instances\n",
        "    def copyOfBoard(self):\n",
        "      nu_board = Board(self.n)\n",
        "      for x in range(self.n):\n",
        "          for y in range(self.n):\n",
        "                nu_cell = boardPiece(x, y)\n",
        "                old_cell = self.boardMap[x][y]\n",
        "                nu_cell.is_drone = old_cell.is_drone\n",
        "                nu_cell.package_count = old_cell.package_count\n",
        "                nu_board.boardMap[x][y] = nu_cell\n",
        "      return nu_board\n",
        "\n",
        "\n",
        "# Write helper functions\n",
        "def is_legal(board: Board, x: int, y: int) -> bool:\n",
        "    n = board.n\n",
        "\n",
        "    # Cannot place on top of another drone\n",
        "    if board.boardMap[x][y].is_drone:\n",
        "        return False\n",
        "\n",
        "    # check Cross Directions\n",
        "    for i in range(n):\n",
        "      if board.boardMap[x][i].is_drone or board.boardMap[i][y].is_drone:\n",
        "        return False\n",
        "\n",
        "    # Check across in each direction\n",
        "    for i in range(n):\n",
        "      for j in range(n):\n",
        "        if board.boardMap[i][j].is_drone:\n",
        "          if abs(x - i) == abs(y - j):\n",
        "            return False\n",
        "\n",
        "    return True\n",
        "\n",
        "# DEBUG FUNCTION\n",
        "def print_board(board: Board) -> None:\n",
        "  for row in board.boardMap:\n",
        "    line = \" \"\n",
        "    for cell in row:\n",
        "      if cell.is_drone:\n",
        "        line += \"D \"\n",
        "      elif cell.is_package:\n",
        "          if cell.is_covered:\n",
        "            line += \"C \"\n",
        "          else:\n",
        "            line += \"P \"\n",
        "      else:\n",
        "        line += \". \"\n",
        "    print(line)\n",
        "\n",
        "def dfs_rec(board: Board, pos: int, placed: int, d: int) -> int:\n",
        "    n = board.n\n",
        "\n",
        "    # Base Case = 1\n",
        "    if placed == d:\n",
        "        return count_packages(board)\n",
        "\n",
        "    # Base Case = 2\n",
        "    if pos >= n * n:\n",
        "      return -1\n",
        "\n",
        "    x = pos // n\n",
        "    y = pos % n\n",
        "    best = -1\n",
        "\n",
        "    # Option 1: Try to place a drone here if legal.\n",
        "    if is_legal(board, x, y):\n",
        "        new_board = board.copyOfBoard()\n",
        "        new_board.place_drone(x, y)\n",
        "        best = max(best, dfs_rec(new_board, pos + 1, placed + 1, d))\n",
        "\n",
        "    # Option 2: Skip this cell.\n",
        "    best = max(best, dfs_rec(board, pos + 1, placed, d))\n",
        "    return best\n",
        "\n",
        "\n",
        "# Easy Board representation to pass\n",
        "def board_rep(board):\n",
        "    return tuple(tuple((cell.is_drone, cell.package_count) for cell in row)\n",
        "            for row in board.boardMap)\n",
        "\n",
        "# Goal State Checking\n",
        "def is_goal(board):\n",
        "    for row in board.boardMap:\n",
        "      for cell in row:\n",
        "        if cell.is_package and not cell.is_covered:\n",
        "          return False\n",
        "\n",
        "    return True\n",
        "\n",
        "# Helper function to track packages added\n",
        "def count_packages(board: Board) -> int:\n",
        "    count = 0\n",
        "    for row in board.boardMap:\n",
        "        for cell in row:\n",
        "            if cell.is_drone:\n",
        "                count += cell.package_count\n",
        "    return count\n",
        "\n",
        "\n",
        "###\n",
        "### YOUR CODE HERE\n",
        "###\n",
        "# Implement DFS\n",
        "def dfs(task: Task) -> int:\n",
        "    max_delivery = -1\n",
        "    ###\n",
        "    ### YOUR CODE HERE\n",
        "    ###\n",
        "\n",
        "    # NOTES: Following the implementation given in txtbook (Figure 3.7)\n",
        "\n",
        "    # Board Generation\n",
        "    # board = Board(task.n)\n",
        "\n",
        "    # # add packages\n",
        "    # for x, y in task.packages:\n",
        "    #   board.add_package(x,y)\n",
        "\n",
        "    # # Tracking DS\n",
        "    # explored = set()\n",
        "    # frontier = []\n",
        "\n",
        "    # # Set the intial state in frontier\n",
        "    # frontier.append(board)\n",
        "\n",
        "    # # DFS Algorithm\n",
        "    # while frontier:\n",
        "\n",
        "    #   # Grab first leaf node\n",
        "    #   node = frontier.pop()\n",
        "    #   current_delivery = count_packages(node)\n",
        "    #   max_delivery = max(max_delivery, current_delivery)\n",
        "\n",
        "\n",
        "    #   if is_goal(node):\n",
        "    #     print_board(node)\n",
        "    #     print(f\"Goal was reached: {count_packages(node)}\")\n",
        "    #     return max_delivery\n",
        "\n",
        "    #   # expand the parent\n",
        "    #   children = helper_dfs(node, task.d)\n",
        "\n",
        "    #   # add the parent to explored set\n",
        "    #   rep = board_rep(node)\n",
        "    #   if rep in explored:\n",
        "    #       continue\n",
        "    #   explored.add(rep)\n",
        "\n",
        "    #   # add child to frontier if not seen\n",
        "    #   for child in children:\n",
        "    #     if board_rep(child) not in explored:\n",
        "    #       frontier.append(child)\n",
        "\n",
        "    # print(f\"No solution found {max_delivery}\")\n",
        "    # print_board(board)\n",
        "\n",
        "    board = Board(task.n)\n",
        "    for x, y in task.packages:\n",
        "      board.add_package(x,y)\n",
        "\n",
        "    max_delivery = dfs_rec(board, 0, 0, task.d)\n",
        "\n",
        "\n",
        "    # print(f\"Solution is {max_delivery}\")\n",
        "    return max_delivery"
      ]
    },
    {
      "cell_type": "markdown",
      "metadata": {
        "id": "Y8CgPKkEYayK"
      },
      "source": [
        "### Revealed tests for DFS"
      ]
    },
    {
      "cell_type": "code",
      "execution_count": null,
      "metadata": {
        "id": "8xPPOMMaYayL"
      },
      "outputs": [],
      "source": [
        "# Example Tests of DFS\n",
        "revealed_tests_dfs = {\n",
        "    'test0': [5, 5, 10, 'dfs', [[2, 4], [3, 2], [2, 2], [1, 3], [1, 1], [1, 0], [1, 0], [1, 1], [1, 3], [3, 0]], 4],\n",
        "    'test1': [5, 2, 9, 'dfs', [[1, 4], [0, 2], [2, 4], [4, 3], [0, 3], [4, 1], [4, 3], [2, 3], [4, 2]], 3],\n",
        "    'test2': [5, 4, 9, 'dfs', [[2, 2], [0, 4], [4, 2], [3, 2], [4, 2], [2, 2], [4, 2], [1, 0], [4, 2]], 6],\n",
        "    'test3': [5, 4, 4, 'dfs', [[2, 3], [0, 2], [4, 1], [3, 1]], 3],\n",
        "    'test4': [5, 5, 8, 'dfs', [[0, 4], [4, 2], [0, 1], [3, 2], [4, 3], [3, 1], [2, 0], [4, 0]], 3],\n",
        "    'test5': [5, 4, 29, 'dfs', [[2, 1], [3, 1], [4, 2], [3, 0], [2, 1], [2, 1], [0, 0], [2, 4], [4, 3], [1, 2], [1, 2], [2, 4], [1, 2], [1, 1], [0, 2], [0, 0], [2, 3], [1, 1], [4, 0], [4, 1], [3, 0], [4, 1], [3, 2], [4, 4], [1, 0], [1, 1], [2, 4], [2, 0], [1, 2]], 11],\n",
        "    'test6': [5, 2, 16, 'dfs', [[4, 4], [0, 1], [1, 1], [1, 3], [0, 0], [4, 2], [3, 4], [3, 3], [4, 1], [0, 2], [1, 2], [4, 1], [2, 1], [3, 1], [2, 1], [1, 1]], 3],\n",
        "    'test7': [5, 5, 38, 'dfs', [[1, 2], [4, 4], [0, 4], [4, 0], [0, 4], [3, 4], [1, 4], [0, 3], [0, 0], [2, 1], [0, 0], [1, 0], [2, 4], [1, 4], [3, 1], [4, 2], [2, 2], [1, 4], [1, 4], [1, 4], [4, 1], [0, 3], [3, 0], [3, 4], [3, 0], [2, 3], [2, 4], [4, 1], [3, 4], [2, 3], [4, 0], [0, 3], [4, 2], [1, 2], [1, 3], [1, 1], [2, 3], [3, 3]], 10],\n",
        "    'test8': [5, 2, 17, 'dfs', [[4, 2], [0, 2], [2, 4], [1, 3], [0, 1], [3, 2], [2, 0], [4, 1], [3, 2], [1, 1], [1, 2], [3, 0], [1, 2], [1, 3], [0, 4], [1, 3], [2, 0]], 5],\n",
        "    'test9': [6, 6, 49, 'dfs', [[2, 3], [3, 0], [4, 2], [2, 0], [5, 0], [1, 3], [2, 4], [5, 2], [0, 5], [4, 0], [5, 2], [3, 0], [5, 5], [4, 3], [5, 2], [2, 0], [0, 1], [2, 2], [3, 0], [1, 1], [3, 2], [0, 4], [5, 4], [3, 1], [0, 5], [1, 5], [4, 4], [3, 4], [4, 3], [1, 3], [5, 2], [4, 3], [5, 4], [5, 2], [1, 2], [0, 0], [5, 4], [3, 3], [2, 1], [3, 5], [4, 4], [4, 4], [1, 0], [2, 4], [4, 0], [0, 1], [0, 4], [0, 3], [4, 2]], 12],\n",
        "    'test10': [6, 5, 47, 'dfs', [[4, 5], [2, 4], [2, 0], [2, 5], [1, 1], [5, 3], [0, 1], [1, 2], [2, 1], [4, 2], [0, 2], [2, 2], [1, 4], [5, 5], [5, 1], [5, 5], [4, 3], [3, 5], [2, 5], [3, 0], [3, 5], [0, 3], [1, 0], [0, 1], [4, 3], [3, 1], [0, 5], [1, 4], [0, 4], [1, 2], [3, 0], [4, 4], [3, 2], [0, 1], [5, 1], [2, 0], [4, 4], [5, 5], [2, 5], [5, 0], [2, 0], [1, 3], [4, 1], [4, 2], [0, 1], [3, 4], [4, 3]], 15],\n",
        "    'test11': [7, 6, 30, 'dfs', [[5, 0], [4, 4], [2, 4], [2, 6], [1, 3], [2, 1], [2, 0], [3, 3], [6, 3], [0, 5], [5, 5], [6, 3], [6, 0], [5, 5], [0, 4], [2, 5], [1, 0], [1, 5], [5, 5], [5, 6], [6, 2], [6, 3], [3, 4], [3, 4], [3, 5], [0, 1], [3, 5], [0, 0], [3, 1], [1, 6]], 10],\n",
        "}\n",
        "\n",
        "def run_test_dfs(test_id):\n",
        "    test_name = f\"test{test_id}\"\n",
        "    in_task = Task(revealed_tests_dfs[test_name][0], revealed_tests_dfs[test_name][1], revealed_tests_dfs[test_name][2], revealed_tests_dfs[test_name][3], revealed_tests_dfs[test_name][4])\n",
        "    time_start = time()\n",
        "    max_delivery = dfs(in_task)\n",
        "    time_end = time()\n",
        "    print(f\"time lapse: {time_end-time_start:.5f} seconds\")\n",
        "    assert int(max_delivery) == int(revealed_tests_dfs[test_name][5]), f\"Did not pass test {test_name}\""
      ]
    },
    {
      "cell_type": "code",
      "execution_count": null,
      "metadata": {
        "colab": {
          "base_uri": "https://localhost:8080/"
        },
        "id": "W5oYzu0kYayL",
        "outputId": "899a3893-27b6-4688-ab7a-853d0c49e67b"
      },
      "outputs": [
        {
          "name": "stdout",
          "output_type": "stream",
          "text": [
            "Solution is 4\n",
            "time lapse: 0.03193 seconds\n"
          ]
        }
      ],
      "source": [
        "run_test_dfs(0)"
      ]
    },
    {
      "cell_type": "code",
      "execution_count": null,
      "metadata": {
        "colab": {
          "base_uri": "https://localhost:8080/"
        },
        "id": "NkCyOAD3YayL",
        "outputId": "a822e8db-ca3d-4ee3-a090-941d3309f360"
      },
      "outputs": [
        {
          "name": "stdout",
          "output_type": "stream",
          "text": [
            "Solution is 3\n",
            "time lapse: 0.00714 seconds\n"
          ]
        }
      ],
      "source": [
        "run_test_dfs(1)"
      ]
    },
    {
      "cell_type": "code",
      "execution_count": null,
      "metadata": {
        "colab": {
          "base_uri": "https://localhost:8080/"
        },
        "id": "R09ntY6qYayM",
        "outputId": "dec1631a-697a-44a6-e571-de42f59437dc"
      },
      "outputs": [
        {
          "name": "stdout",
          "output_type": "stream",
          "text": [
            "Solution is 6\n",
            "time lapse: 0.02771 seconds\n"
          ]
        }
      ],
      "source": [
        "run_test_dfs(2)"
      ]
    },
    {
      "cell_type": "code",
      "execution_count": null,
      "metadata": {
        "colab": {
          "base_uri": "https://localhost:8080/"
        },
        "id": "5LOieN4PYayM",
        "outputId": "23fb1b36-e73d-4341-c329-72d55529ae8f"
      },
      "outputs": [
        {
          "name": "stdout",
          "output_type": "stream",
          "text": [
            "Solution is 3\n",
            "time lapse: 0.01435 seconds\n"
          ]
        }
      ],
      "source": [
        "run_test_dfs(3)"
      ]
    },
    {
      "cell_type": "code",
      "execution_count": null,
      "metadata": {
        "colab": {
          "base_uri": "https://localhost:8080/"
        },
        "id": "wjPBBflDYayM",
        "outputId": "d89bd945-f599-4b49-f783-bca37abff978"
      },
      "outputs": [
        {
          "name": "stdout",
          "output_type": "stream",
          "text": [
            "Solution is 3\n",
            "time lapse: 0.01527 seconds\n"
          ]
        }
      ],
      "source": [
        "run_test_dfs(4)"
      ]
    },
    {
      "cell_type": "code",
      "execution_count": null,
      "metadata": {
        "colab": {
          "base_uri": "https://localhost:8080/"
        },
        "id": "VvLKNO_TYayM",
        "outputId": "198d2647-b6c1-4d1b-dbf9-820879053827"
      },
      "outputs": [
        {
          "name": "stdout",
          "output_type": "stream",
          "text": [
            "Solution is 11\n",
            "time lapse: 0.01401 seconds\n"
          ]
        }
      ],
      "source": [
        "run_test_dfs(5)"
      ]
    },
    {
      "cell_type": "code",
      "execution_count": null,
      "metadata": {
        "colab": {
          "base_uri": "https://localhost:8080/"
        },
        "id": "56puP0maYayN",
        "outputId": "07f2514d-688b-49c2-d3b1-ac1e3024311e"
      },
      "outputs": [
        {
          "name": "stdout",
          "output_type": "stream",
          "text": [
            "Solution is 3\n",
            "time lapse: 0.00410 seconds\n"
          ]
        }
      ],
      "source": [
        "run_test_dfs(6)"
      ]
    },
    {
      "cell_type": "code",
      "execution_count": null,
      "metadata": {
        "colab": {
          "base_uri": "https://localhost:8080/"
        },
        "id": "8pBMClySYayN",
        "outputId": "13ee14db-cce7-474d-87e2-6804a715e229"
      },
      "outputs": [
        {
          "name": "stdout",
          "output_type": "stream",
          "text": [
            "Solution is 10\n",
            "time lapse: 0.01189 seconds\n"
          ]
        }
      ],
      "source": [
        "run_test_dfs(7)"
      ]
    },
    {
      "cell_type": "code",
      "execution_count": null,
      "metadata": {
        "colab": {
          "base_uri": "https://localhost:8080/"
        },
        "id": "Tz2QFHuHYayN",
        "outputId": "62632439-e986-469a-bf1d-fcced9d0b922"
      },
      "outputs": [
        {
          "name": "stdout",
          "output_type": "stream",
          "text": [
            "Solution is 5\n",
            "time lapse: 0.00409 seconds\n"
          ]
        }
      ],
      "source": [
        "run_test_dfs(8)"
      ]
    },
    {
      "cell_type": "code",
      "execution_count": null,
      "metadata": {
        "colab": {
          "base_uri": "https://localhost:8080/"
        },
        "id": "Xv6j2L_CYayN",
        "outputId": "44af1a2d-a88a-44b0-884f-b5ba263203f1"
      },
      "outputs": [
        {
          "name": "stdout",
          "output_type": "stream",
          "text": [
            "Solution is 12\n",
            "time lapse: 0.08854 seconds\n"
          ]
        }
      ],
      "source": [
        "run_test_dfs(9)"
      ]
    },
    {
      "cell_type": "code",
      "execution_count": null,
      "metadata": {
        "colab": {
          "base_uri": "https://localhost:8080/"
        },
        "id": "MmpaT-olYayO",
        "outputId": "9ef57386-9a5c-43cd-92bd-d018f274ad5c"
      },
      "outputs": [
        {
          "name": "stdout",
          "output_type": "stream",
          "text": [
            "Solution is 15\n",
            "time lapse: 0.09071 seconds\n"
          ]
        }
      ],
      "source": [
        "run_test_dfs(10)"
      ]
    },
    {
      "cell_type": "code",
      "execution_count": null,
      "metadata": {
        "colab": {
          "base_uri": "https://localhost:8080/"
        },
        "id": "W9JfTuonYayO",
        "outputId": "693e4e5a-4298-42a9-ffc5-dcc3eb7231e4"
      },
      "outputs": [
        {
          "name": "stdout",
          "output_type": "stream",
          "text": [
            "Solution is 10\n",
            "time lapse: 0.85188 seconds\n"
          ]
        }
      ],
      "source": [
        "run_test_dfs(11)"
      ]
    },
    {
      "cell_type": "markdown",
      "metadata": {
        "id": "hwqqNklXYayO"
      },
      "source": [
        "### Hidden tests for DFS"
      ]
    },
    {
      "cell_type": "code",
      "execution_count": null,
      "metadata": {
        "id": "EhYgjJN7YayO"
      },
      "outputs": [],
      "source": [
        "###\n",
        "### AUTOGRADER TEST - DO NOT REMOVE\n",
        "###\n"
      ]
    },
    {
      "cell_type": "code",
      "execution_count": null,
      "metadata": {
        "id": "U6SdQ_xNYayO"
      },
      "outputs": [],
      "source": [
        "###\n",
        "### AUTOGRADER TEST - DO NOT REMOVE\n",
        "###\n"
      ]
    },
    {
      "cell_type": "code",
      "execution_count": null,
      "metadata": {
        "id": "PNfeKehbYayO"
      },
      "outputs": [],
      "source": [
        "###\n",
        "### AUTOGRADER TEST - DO NOT REMOVE\n",
        "###\n"
      ]
    },
    {
      "cell_type": "code",
      "execution_count": null,
      "metadata": {
        "id": "w8RLJNZZYayP"
      },
      "outputs": [],
      "source": [
        "###\n",
        "### AUTOGRADER TEST - DO NOT REMOVE\n",
        "###\n"
      ]
    },
    {
      "cell_type": "code",
      "execution_count": null,
      "metadata": {
        "id": "pW_yEM3fYayP"
      },
      "outputs": [],
      "source": [
        "###\n",
        "### AUTOGRADER TEST - DO NOT REMOVE\n",
        "###\n"
      ]
    },
    {
      "cell_type": "code",
      "execution_count": null,
      "metadata": {
        "id": "NGmWJmHfYayP"
      },
      "outputs": [],
      "source": [
        "###\n",
        "### AUTOGRADER TEST - DO NOT REMOVE\n",
        "###\n"
      ]
    },
    {
      "cell_type": "code",
      "execution_count": null,
      "metadata": {
        "id": "fpeyp5syYayP"
      },
      "outputs": [],
      "source": [
        "###\n",
        "### AUTOGRADER TEST - DO NOT REMOVE\n",
        "###\n"
      ]
    },
    {
      "cell_type": "code",
      "execution_count": null,
      "metadata": {
        "id": "OjoUhq-iYayP"
      },
      "outputs": [],
      "source": [
        "###\n",
        "### AUTOGRADER TEST - DO NOT REMOVE\n",
        "###\n"
      ]
    },
    {
      "cell_type": "code",
      "execution_count": null,
      "metadata": {
        "id": "jCoEeCCcYayQ"
      },
      "outputs": [],
      "source": [
        "###\n",
        "### AUTOGRADER TEST - DO NOT REMOVE\n",
        "###\n"
      ]
    },
    {
      "cell_type": "code",
      "execution_count": null,
      "metadata": {
        "id": "YsgoGtQoYayQ"
      },
      "outputs": [],
      "source": [
        "###\n",
        "### AUTOGRADER TEST - DO NOT REMOVE\n",
        "###\n"
      ]
    },
    {
      "cell_type": "code",
      "execution_count": null,
      "metadata": {
        "id": "vIHHJ2c1YayQ"
      },
      "outputs": [],
      "source": [
        "###\n",
        "### AUTOGRADER TEST - DO NOT REMOVE\n",
        "###\n"
      ]
    },
    {
      "cell_type": "code",
      "execution_count": null,
      "metadata": {
        "id": "kZsSUrlrYayQ"
      },
      "outputs": [],
      "source": [
        "###\n",
        "### AUTOGRADER TEST - DO NOT REMOVE\n",
        "###\n"
      ]
    },
    {
      "cell_type": "code",
      "execution_count": null,
      "metadata": {
        "id": "WRANFKMzYayR"
      },
      "outputs": [],
      "source": [
        "###\n",
        "### AUTOGRADER TEST - DO NOT REMOVE\n",
        "###\n"
      ]
    },
    {
      "cell_type": "markdown",
      "metadata": {
        "id": "lfTu1oSCYayR"
      },
      "source": [
        "## A Star"
      ]
    },
    {
      "cell_type": "code",
      "execution_count": null,
      "metadata": {
        "id": "hJ6YmVfoYayR"
      },
      "outputs": [],
      "source": [
        "# Write helper functions\n",
        "###\n",
        "### YOUR CODE HERE\n",
        "###\n",
        "\n",
        "# Notes:\n",
        "# First implementation did not use numpy but similar to DFS was the copying\n",
        "# Second revision used numpy to speed things up! (Mainly the manual copy)\n",
        "\n",
        "class PriorityBoard:\n",
        "  def __init__(self, f, g, board, placed_drones):\n",
        "    self.f = f\n",
        "    self.g = g\n",
        "    self.board = board\n",
        "    self.placed_drones = placed_drones\n",
        "\n",
        "  def __lt__(self, other):\n",
        "      return self.f < other.f\n",
        "\n",
        "class boardPiece:\n",
        "  def __init__(self, x: int, y: int):\n",
        "    self.x = x\n",
        "    self.y = y\n",
        "    self.is_drone = False\n",
        "    self.package_count = 0\n",
        "\n",
        "  def add_package(self):\n",
        "     self.package_count += 1\n",
        "\n",
        "  def add_drone(self):\n",
        "    self.is_drone = True\n",
        "\n",
        "class Board:\n",
        "    def __init__(self, n):\n",
        "      self.n = n\n",
        "      self.is_drone = np.zeros((n, n), dtype=bool)\n",
        "      self.package_count = np.zeros((n, n), dtype=int)\n",
        "      self.boardMap = [[boardPiece(x, y) for y in range(n)] for x in range(n)]\n",
        "\n",
        "    def add_package(self, x, y):\n",
        "        self.package_count[x][y] += 1\n",
        "\n",
        "    def place_drone(self, x, y):\n",
        "         self.is_drone[x,y] = True\n",
        "\n",
        "    def copyOfBoard(self):\n",
        "      # nu_board = Board(self.n)\n",
        "      # for x in range(self.n):\n",
        "      #     for y in range(self.n):\n",
        "                # nu_cell = boardPiece(x, y)\n",
        "                # old_cell = self.boardMap[x][y]\n",
        "                # nu_cell.is_drone = old_cell.is_drone\n",
        "                # nu_cell.package_count = old_cell.package_count\n",
        "                # nu_board.boardMap[x][y] = nu_cell\n",
        "                # nu_board.boardMap[x][y].is_drone = self.boardMap[x][y].is_drone\n",
        "                # nu_board.boardMap[x][y].package_count = self.boardMap[x][y].package_count\n",
        "      # print(\"Before the copy\")\n",
        "      # print(self.is_drone)\n",
        "      # print(self.package_count)\n",
        "\n",
        "      new_board = Board(self.n)\n",
        "      np.copyto(new_board.is_drone, self.is_drone)\n",
        "      np.copyto(new_board.package_count, self.package_count)\n",
        "\n",
        "      # print(new_board.is_drone)\n",
        "      # print(new_board.package_count)\n",
        "      return new_board\n",
        "\n",
        "\n",
        "# Write helper functions\n",
        "def count_packages(board: Board) -> int:\n",
        "    return np.sum(board.package_count * board.is_drone)\n",
        "\n",
        "def is_legal(board: Board, x: int, y: int) -> bool:\n",
        "\n",
        "    if board.is_drone[x,y]:\n",
        "        return False\n",
        "\n",
        "\n",
        "    # for i in range(n):\n",
        "    #   if board.boardMap[x][i].is_drone or board.boardMap[i][y].is_drone:\n",
        "    #     return False\n",
        "\n",
        "    # for i in range(n):\n",
        "    #   for j in range(n):\n",
        "    #     if board.boardMap[i][j].is_drone:\n",
        "    #       if abs(x - i) == abs(y - j):\n",
        "    #         return False\n",
        "    if np.any(board.is_drone[x, :]) or np.any(board.is_drone[:, y]):\n",
        "      return False\n",
        "\n",
        "\n",
        "    n = board.n\n",
        "    for i in range(n):\n",
        "      for j in range(n):\n",
        "        if board.is_drone[i, j] and abs(x - i) == abs(y - j):\n",
        "          return False\n",
        "    return True\n",
        "\n",
        "def heuristic(board: Board, total_packages: int):\n",
        "    delivered = count_packages(board)\n",
        "    return total_packages - delivered\n",
        "\n",
        "def astar(task: Task) -> int:\n",
        "    max_delivery = -1\n",
        "    ###\n",
        "    ### YOUR CODE HERE\n",
        "    ###\n",
        "    board = Board(task.n)\n",
        "\n",
        "    n = task.n\n",
        "    d = task.d\n",
        "    p = task.p\n",
        "\n",
        "    for x, y in task.packages:\n",
        "      board.add_package(x,y)\n",
        "\n",
        "    total_packages = np.sum(board.package_count)\n",
        "    # print(f\"Total packages is: {total_packages}\")\n",
        "\n",
        "    pq = []\n",
        "    heapq.heappush(pq, (0, 0, id(board), PriorityBoard(0,0,board, 0)))\n",
        "\n",
        "    max_delivery = 0\n",
        "    visited_states = set()\n",
        "\n",
        "    while pq:\n",
        "      _, g, _, current = heapq.heappop(pq)\n",
        "      current_board = current.board\n",
        "      placed_drones = current.placed_drones\n",
        "\n",
        "      board_state_key = (tuple(map(tuple, current_board.is_drone)))\n",
        "      if board_state_key in visited_states:\n",
        "        continue\n",
        "      visited_states.add(board_state_key)\n",
        "\n",
        "      # print(f\"Processing board with {placed_drones} drones placed\")\n",
        "\n",
        "      if placed_drones == d:\n",
        "        delivered = count_packages(current_board)\n",
        "        max_delivery = max(max_delivery, delivered)\n",
        "        # print(f\"Final board delivered {delivered} packges\")\n",
        "        continue\n",
        "\n",
        "      for x in range(n):\n",
        "        for y in range(n):\n",
        "          if is_legal(current_board, x, y):\n",
        "            # print(f\"Placing drone at {x}, {y}\")\n",
        "            new_board = current_board.copyOfBoard()\n",
        "            new_board.place_drone(x, y)\n",
        "\n",
        "            h = heuristic(new_board, total_packages)\n",
        "            # heuristic function (f = g + h)\n",
        "            f = g + 1 + h\n",
        "            heapq.heappush(pq, (f, g+1, id(new_board), PriorityBoard(f, g + 1, new_board, placed_drones + 1)))\n",
        "    print (f\"Solution is {max_delivery}\")\n",
        "    return max_delivery"
      ]
    },
    {
      "cell_type": "markdown",
      "metadata": {
        "id": "2mW702JZYayS"
      },
      "source": [
        "### Revealed tests for AStar"
      ]
    },
    {
      "cell_type": "code",
      "execution_count": null,
      "metadata": {
        "id": "yadbVAgFYayS"
      },
      "outputs": [],
      "source": [
        "# Example Tests of AStar\n",
        "revealed_tests_astar = {\n",
        "    'test0': [5, 5, 10, 'astar', [[2, 4], [3, 2], [2, 2], [1, 3], [1, 1], [1, 0], [1, 0], [1, 1], [1, 3], [3, 0]], 4],\n",
        "    'test1': [5, 2, 9, 'astar', [[1, 4], [0, 2], [2, 4], [4, 3], [0, 3], [4, 1], [4, 3], [2, 3], [4, 2]], 3],\n",
        "    'test2': [5, 4, 9, 'astar', [[2, 2], [0, 4], [4, 2], [3, 2], [4, 2], [2, 2], [4, 2], [1, 0], [4, 2]], 6],\n",
        "    'test3': [5, 4, 4, 'astar', [[2, 3], [0, 2], [4, 1], [3, 1]], 3],\n",
        "    'test4': [5, 5, 8, 'astar', [[0, 4], [4, 2], [0, 1], [3, 2], [4, 3], [3, 1], [2, 0], [4, 0]], 3],\n",
        "    'test5': [5, 2, 17, 'astar', [[4, 2], [0, 2], [2, 4], [1, 3], [0, 1], [3, 2], [2, 0], [4, 1], [3, 2], [1, 1], [1, 2], [3, 0], [1, 2], [1, 3], [0, 4], [1, 3], [2, 0]], 5],\n",
        "    'test6': [7, 7, 31, 'astar', [[0, 6], [5, 4], [3, 2], [5, 1], [3, 4], [3, 5], [3, 0], [0, 5], [1, 4], [0, 1], [2, 0], [4, 3], [4, 3], [0, 1], [3, 2], [4, 4], [5, 1], [3, 3], [4, 6], [6, 3], [2, 3], [0, 5], [2, 6], [2, 2], [6, 3], [3, 5], [6, 3], [3, 5], [5, 4], [5, 0], [5, 2]], 10],\n",
        "    'test7': [6, 5, 47, 'astar', [[4, 5], [2, 4], [2, 0], [2, 5], [1, 1], [5, 3], [0, 1], [1, 2], [2, 1], [4, 2], [0, 2], [2, 2], [1, 4], [5, 5], [5, 1], [5, 5], [4, 3], [3, 5], [2, 5], [3, 0], [3, 5], [0, 3], [1, 0], [0, 1], [4, 3], [3, 1], [0, 5], [1, 4], [0, 4], [1, 2], [3, 0], [4, 4], [3, 2], [0, 1], [5, 1], [2, 0], [4, 4], [5, 5], [2, 5], [5, 0], [2, 0], [1, 3], [4, 1], [4, 2], [0, 1], [3, 4], [4, 3]], 15],\n",
        "    'test8': [5, 5, 20, 'astar', [[3, 3], [3, 3], [0, 3], [4, 3], [2, 4], [2, 0], [0, 0], [2, 3], [4, 1], [2, 4], [4, 2], [0, 4], [0, 3], [2, 4], [1, 2], [1, 4], [0, 2], [4, 2], [0, 3], [3, 3]], 7],\n",
        "    'test9': [6, 6, 16, 'astar', [[5, 5], [1, 4], [3, 3], [4, 5], [4, 4], [0, 2], [4, 3], [0, 0], [3, 5], [3, 1], [0, 0], [1, 4], [0, 3], [2, 4], [1, 0], [4, 0]], 5],\n",
        "    'test10': [6, 6, 28, 'astar', [[2, 2], [1, 4], [0, 0], [3, 2], [5, 1], [1, 0], [5, 0], [1, 4], [2, 4], [0, 1], [3, 3], [0, 2], [1, 5], [3, 5], [2, 1], [4, 1], [4, 3], [5, 0], [3, 3], [2, 3], [1, 0], [0, 3], [5, 3], [4, 4], [0, 4], [0, 2], [3, 0], [4, 0]], 6],\n",
        "    'test11': [7, 7, 27, 'astar', [[1, 0], [5, 5], [0, 1], [5, 5], [1, 4], [2, 6], [5, 2], [2, 2], [0, 6], [3, 1], [4, 1], [5, 4], [5, 6], [6, 1], [0, 5], [4, 4], [1, 6], [4, 4], [3, 4], [6, 6], [2, 2], [6, 3], [3, 5], [3, 0], [1, 6], [5, 0], [2, 3]], 7],\n",
        "}\n",
        "\n",
        "def run_test_astar(test_id):\n",
        "    test_name = f\"test{test_id}\"\n",
        "    in_task = Task(revealed_tests_astar[test_name][0], revealed_tests_astar[test_name][1], revealed_tests_astar[test_name][2], revealed_tests_astar[test_name][3], revealed_tests_astar[test_name][4])\n",
        "    time_start = time()\n",
        "    max_delivery = astar(in_task)\n",
        "    time_end = time()\n",
        "    print(f\"time lapse: {time_end-time_start:.5f} seconds\")\n",
        "    assert int(max_delivery) == int(revealed_tests_astar[test_name][5]), f\"Did not pass test {test_name}\""
      ]
    },
    {
      "cell_type": "code",
      "execution_count": null,
      "metadata": {
        "colab": {
          "base_uri": "https://localhost:8080/"
        },
        "id": "8qn1OTtTYayT",
        "outputId": "6db5dbfd-c125-4ced-fd65-8eefb3148f85"
      },
      "outputs": [
        {
          "output_type": "stream",
          "name": "stdout",
          "text": [
            "Solution is 4\n",
            "time lapse: 0.19918 seconds\n"
          ]
        }
      ],
      "source": [
        "run_test_astar(0)"
      ]
    },
    {
      "cell_type": "code",
      "execution_count": null,
      "metadata": {
        "colab": {
          "base_uri": "https://localhost:8080/"
        },
        "id": "2UYB-6Q1YayT",
        "outputId": "eb80c86b-f1be-471a-b288-301f7791dae8"
      },
      "outputs": [
        {
          "output_type": "stream",
          "name": "stdout",
          "text": [
            "Solution is 3\n",
            "time lapse: 0.03687 seconds\n"
          ]
        }
      ],
      "source": [
        "run_test_astar(1)"
      ]
    },
    {
      "cell_type": "code",
      "execution_count": null,
      "metadata": {
        "colab": {
          "base_uri": "https://localhost:8080/"
        },
        "id": "glEJpQdnYayT",
        "outputId": "fba8bc21-c913-423d-a3cf-c4e6049195f7"
      },
      "outputs": [
        {
          "output_type": "stream",
          "name": "stdout",
          "text": [
            "Solution is 6\n",
            "time lapse: 0.17190 seconds\n"
          ]
        }
      ],
      "source": [
        "run_test_astar(2)"
      ]
    },
    {
      "cell_type": "code",
      "execution_count": null,
      "metadata": {
        "colab": {
          "base_uri": "https://localhost:8080/"
        },
        "id": "62EJ3XLLYayT",
        "outputId": "47ce75ca-ec48-44cb-e632-557d7ed42901"
      },
      "outputs": [
        {
          "output_type": "stream",
          "name": "stdout",
          "text": [
            "Solution is 3\n",
            "time lapse: 0.23651 seconds\n"
          ]
        }
      ],
      "source": [
        "run_test_astar(3)"
      ]
    },
    {
      "cell_type": "code",
      "execution_count": null,
      "metadata": {
        "colab": {
          "base_uri": "https://localhost:8080/"
        },
        "id": "HrUpskbFYayT",
        "outputId": "ced4f0ff-0b26-44b7-fba4-6a49cec490bf"
      },
      "outputs": [
        {
          "output_type": "stream",
          "name": "stdout",
          "text": [
            "Solution is 3\n",
            "time lapse: 0.22227 seconds\n"
          ]
        }
      ],
      "source": [
        "run_test_astar(4)"
      ]
    },
    {
      "cell_type": "code",
      "execution_count": null,
      "metadata": {
        "colab": {
          "base_uri": "https://localhost:8080/"
        },
        "id": "Hmtd1GDnYayT",
        "outputId": "493293c3-2a9e-402a-b956-7d83fc1d49c5"
      },
      "outputs": [
        {
          "output_type": "stream",
          "name": "stdout",
          "text": [
            "Solution is 5\n",
            "time lapse: 0.03079 seconds\n"
          ]
        }
      ],
      "source": [
        "run_test_astar(5)"
      ]
    },
    {
      "cell_type": "code",
      "execution_count": null,
      "metadata": {
        "colab": {
          "base_uri": "https://localhost:8080/"
        },
        "id": "M9xmxhzPYayT",
        "outputId": "180473fa-c233-4de5-a206-dd3765315ed6"
      },
      "outputs": [
        {
          "output_type": "stream",
          "name": "stdout",
          "text": [
            "Solution is 10\n",
            "time lapse: 19.10300 seconds\n"
          ]
        }
      ],
      "source": [
        "run_test_astar(6)"
      ]
    },
    {
      "cell_type": "code",
      "execution_count": null,
      "metadata": {
        "id": "AnLdbFtQYayU",
        "colab": {
          "base_uri": "https://localhost:8080/"
        },
        "outputId": "a53ee375-3110-476c-f3c4-80f3ab4b8c6a"
      },
      "outputs": [
        {
          "output_type": "stream",
          "name": "stdout",
          "text": [
            "Solution is 15\n",
            "time lapse: 1.60520 seconds\n"
          ]
        }
      ],
      "source": [
        "run_test_astar(7)"
      ]
    },
    {
      "cell_type": "code",
      "execution_count": null,
      "metadata": {
        "id": "VtW_4HfgYayU",
        "colab": {
          "base_uri": "https://localhost:8080/"
        },
        "outputId": "e765d74f-16ef-4fdb-dde0-d47f7127f525"
      },
      "outputs": [
        {
          "output_type": "stream",
          "name": "stdout",
          "text": [
            "Solution is 7\n",
            "time lapse: 0.33759 seconds\n"
          ]
        }
      ],
      "source": [
        "run_test_astar(8)"
      ]
    },
    {
      "cell_type": "code",
      "execution_count": null,
      "metadata": {
        "id": "EPKydZNrYayU",
        "colab": {
          "base_uri": "https://localhost:8080/"
        },
        "outputId": "a94154b3-6c15-4ff8-eb19-01155ca50a3a"
      },
      "outputs": [
        {
          "output_type": "stream",
          "name": "stdout",
          "text": [
            "Solution is 5\n",
            "time lapse: 2.14790 seconds\n"
          ]
        }
      ],
      "source": [
        "run_test_astar(9)"
      ]
    },
    {
      "cell_type": "code",
      "execution_count": null,
      "metadata": {
        "id": "4RzSSwopYayU",
        "colab": {
          "base_uri": "https://localhost:8080/"
        },
        "outputId": "255ffa2c-ad95-4be3-c28e-85742fb22aaf"
      },
      "outputs": [
        {
          "output_type": "stream",
          "name": "stdout",
          "text": [
            "Solution is 6\n",
            "time lapse: 1.83946 seconds\n"
          ]
        }
      ],
      "source": [
        "run_test_astar(10)"
      ]
    },
    {
      "cell_type": "code",
      "execution_count": null,
      "metadata": {
        "id": "5XBzsUbSYayU",
        "colab": {
          "base_uri": "https://localhost:8080/"
        },
        "outputId": "430095dd-b345-4151-833b-1b9e61edddcb"
      },
      "outputs": [
        {
          "output_type": "stream",
          "name": "stdout",
          "text": [
            "Solution is 7\n",
            "time lapse: 19.67889 seconds\n"
          ]
        }
      ],
      "source": [
        "run_test_astar(11)"
      ]
    },
    {
      "cell_type": "markdown",
      "metadata": {
        "id": "B45bJf5dYayU"
      },
      "source": [
        "### Hidden tests for AStar"
      ]
    },
    {
      "cell_type": "code",
      "execution_count": null,
      "metadata": {
        "id": "TBE0W0UlYayU"
      },
      "outputs": [],
      "source": [
        "###\n",
        "### AUTOGRADER TEST - DO NOT REMOVE\n",
        "###\n"
      ]
    },
    {
      "cell_type": "code",
      "execution_count": null,
      "metadata": {
        "id": "xLzKF0zsYayU"
      },
      "outputs": [],
      "source": [
        "###\n",
        "### AUTOGRADER TEST - DO NOT REMOVE\n",
        "###\n"
      ]
    },
    {
      "cell_type": "code",
      "execution_count": null,
      "metadata": {
        "id": "BWJYHlTVYayU"
      },
      "outputs": [],
      "source": [
        "###\n",
        "### AUTOGRADER TEST - DO NOT REMOVE\n",
        "###\n"
      ]
    },
    {
      "cell_type": "code",
      "execution_count": null,
      "metadata": {
        "id": "fBPur97hYayU"
      },
      "outputs": [],
      "source": [
        "###\n",
        "### AUTOGRADER TEST - DO NOT REMOVE\n",
        "###\n"
      ]
    },
    {
      "cell_type": "code",
      "execution_count": null,
      "metadata": {
        "id": "8J51Qxq5YayV"
      },
      "outputs": [],
      "source": [
        "###\n",
        "### AUTOGRADER TEST - DO NOT REMOVE\n",
        "###\n"
      ]
    },
    {
      "cell_type": "code",
      "execution_count": null,
      "metadata": {
        "id": "NctPhLeCYayV"
      },
      "outputs": [],
      "source": [
        "###\n",
        "### AUTOGRADER TEST - DO NOT REMOVE\n",
        "###\n"
      ]
    },
    {
      "cell_type": "code",
      "execution_count": null,
      "metadata": {
        "id": "aHt-_5PDYayV"
      },
      "outputs": [],
      "source": [
        "###\n",
        "### AUTOGRADER TEST - DO NOT REMOVE\n",
        "###\n"
      ]
    },
    {
      "cell_type": "code",
      "execution_count": null,
      "metadata": {
        "id": "KDd5BUfqYayV"
      },
      "outputs": [],
      "source": [
        "###\n",
        "### AUTOGRADER TEST - DO NOT REMOVE\n",
        "###\n"
      ]
    },
    {
      "cell_type": "code",
      "execution_count": null,
      "metadata": {
        "id": "QUmXmeTDYayV"
      },
      "outputs": [],
      "source": [
        "###\n",
        "### AUTOGRADER TEST - DO NOT REMOVE\n",
        "###\n"
      ]
    },
    {
      "cell_type": "code",
      "execution_count": null,
      "metadata": {
        "id": "4rFN8-02YayV"
      },
      "outputs": [],
      "source": [
        "###\n",
        "### AUTOGRADER TEST - DO NOT REMOVE\n",
        "###\n"
      ]
    },
    {
      "cell_type": "code",
      "execution_count": null,
      "metadata": {
        "id": "rmJN0PwXYayV"
      },
      "outputs": [],
      "source": [
        "###\n",
        "### AUTOGRADER TEST - DO NOT REMOVE\n",
        "###\n"
      ]
    },
    {
      "cell_type": "code",
      "execution_count": null,
      "metadata": {
        "id": "vzGp5O6NYayV"
      },
      "outputs": [],
      "source": [
        "###\n",
        "### AUTOGRADER TEST - DO NOT REMOVE\n",
        "###\n"
      ]
    },
    {
      "cell_type": "code",
      "execution_count": null,
      "metadata": {
        "id": "yE8qHDLqYayV"
      },
      "outputs": [],
      "source": [
        "###\n",
        "### AUTOGRADER TEST - DO NOT REMOVE\n",
        "###\n"
      ]
    },
    {
      "cell_type": "markdown",
      "metadata": {
        "id": "D_y0lm6yYayW"
      },
      "source": [
        "### End of Project 1"
      ]
    }
  ],
  "metadata": {
    "colab": {
      "provenance": [],
      "include_colab_link": true
    },
    "kernelspec": {
      "display_name": "base",
      "language": "python",
      "name": "python3"
    },
    "language_info": {
      "codemirror_mode": {
        "name": "ipython",
        "version": 3
      },
      "file_extension": ".py",
      "mimetype": "text/x-python",
      "name": "python",
      "nbconvert_exporter": "python",
      "pygments_lexer": "ipython3",
      "version": "3.10.11"
    }
  },
  "nbformat": 4,
  "nbformat_minor": 0
}